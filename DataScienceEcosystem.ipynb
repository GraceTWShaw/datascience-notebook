{
  "nbformat": 4,
  "nbformat_minor": 0,
  "metadata": {
    "colab": {
      "provenance": []
    },
    "kernelspec": {
      "name": "python3",
      "display_name": "Python 3"
    },
    "language_info": {
      "name": "python"
    }
  },
  "cells": [
    {
      "cell_type": "markdown",
      "source": [
        "# Data Science Tools and Ecosystem"
      ],
      "metadata": {
        "id": "Dvs30DhHMPky"
      }
    },
    {
      "cell_type": "markdown",
      "source": [
        "Some of the popular languages that Data Scientists use are:"
      ],
      "metadata": {
        "id": "5Kqwc5zbPSwm"
      }
    },
    {
      "cell_type": "markdown",
      "source": [
        "In this notebook, Data Science Tools and Ecosystem are summarized.\n",
        "Python  \n",
        "1.   R\n",
        "2.   Python\n",
        "1.   SQL\n",
        "2.   Julia\n",
        "\n",
        "\n",
        ""
      ],
      "metadata": {
        "id": "vtLy8A1uOcO_"
      }
    },
    {
      "cell_type": "markdown",
      "source": [
        "Some of the commonly used libraries used by Data Scientists include:\n",
        "1. NumPy  \n",
        "2. pandas  \n",
        "3. Matplotlib  \n",
        "4. scikit-learn  "
      ],
      "metadata": {
        "id": "xS6yLvQmiJCR"
      }
    },
    {
      "cell_type": "markdown",
      "source": [
        "| Data Science Tools       |\n",
        "|--------------------------|\n",
        "| Jupyter Notebook         |\n",
        "| RStudio                  |\n",
        "| VS Code                  |"
      ],
      "metadata": {
        "id": "OI6G7ciai_Io"
      }
    },
    {
      "cell_type": "markdown",
      "source": [
        "### Below are a few examples of evaluating arithmetic expressions in Python.\n",
        "\n",
        "- `3 + 5` evaluates to `8`\n",
        "- `10 / 2` evaluates to `5.0`\n",
        "- `2 * (4 + 6)` evaluates to `20`"
      ],
      "metadata": {
        "id": "8jVp69cRj7Ln"
      }
    },
    {
      "cell_type": "code",
      "source": [
        "# This a simple arithmetic expression to mutiply then add integers.\n",
        "(3*4)+5"
      ],
      "metadata": {
        "colab": {
          "base_uri": "https://localhost:8080/"
        },
        "id": "FIBYQkxukXsx",
        "outputId": "ba3f9b92-a075-4bde-93e8-da4d99346716"
      },
      "execution_count": 5,
      "outputs": [
        {
          "output_type": "execute_result",
          "data": {
            "text/plain": [
              "17"
            ]
          },
          "metadata": {},
          "execution_count": 5
        }
      ]
    },
    {
      "cell_type": "code",
      "source": [
        "# his will convert 200 minutes to hours by diving by 60.\n",
        "import numpy as np\n",
        "def minToHour(min):\n",
        "  hr = np.round(min/60,2)\n",
        "  print ('%s minutes = %s hours' %(min, hr))\n",
        "  return hr\n",
        "\n",
        "minToHour(200)"
      ],
      "metadata": {
        "colab": {
          "base_uri": "https://localhost:8080/"
        },
        "id": "VCOtTzw_qCBR",
        "outputId": "e39da55a-e0a1-47c8-e99a-4e7a9402a992"
      },
      "execution_count": 12,
      "outputs": [
        {
          "output_type": "stream",
          "name": "stdout",
          "text": [
            "200 minutes = 3.33 hours\n"
          ]
        },
        {
          "output_type": "execute_result",
          "data": {
            "text/plain": [
              "np.float64(3.33)"
            ]
          },
          "metadata": {},
          "execution_count": 12
        }
      ]
    },
    {
      "cell_type": "markdown",
      "source": [
        "**Objectives:**\n",
        "\n",
        "- List popular languages for Data Science  \n",
        "- Identify commonly used libraries in Data Science  \n",
        "- Create tables and lists using Markdown  \n",
        "- Perform basic arithmetic expressions in Python  \n",
        "- Convert units using simple Python code  "
      ],
      "metadata": {
        "id": "p3UKVRadra1j"
      }
    },
    {
      "cell_type": "markdown",
      "source": [
        "## Author\n",
        "Tzun-Wen (Grace) Shaw"
      ],
      "metadata": {
        "id": "k-RzSJYYsCdX"
      }
    }
  ]
}